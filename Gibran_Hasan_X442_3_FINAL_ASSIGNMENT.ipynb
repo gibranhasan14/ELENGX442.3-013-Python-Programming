{
 "cells": [
  {
   "cell_type": "code",
   "execution_count": null,
   "metadata": {},
   "outputs": [],
   "source": [
    "import collections, numpy"
   ]
  },
  {
   "cell_type": "code",
   "execution_count": null,
   "metadata": {},
   "outputs": [],
   "source": [
    "import os\n",
    "import re\n",
    "from collections import Counter\n",
    "\n",
    "directory = os.listdir()\n",
    "directory"
   ]
  },
  {
   "cell_type": "code",
   "execution_count": null,
   "metadata": {},
   "outputs": [],
   "source": [
    "current_dir_name= os.path.basename(os.getcwd())\n",
    "os.getcwd(), current_dir_name"
   ]
  },
  {
   "cell_type": "code",
   "execution_count": null,
   "metadata": {},
   "outputs": [],
   "source": [
    "#Write a program that takes as an argument the name of a directory (folder) and then \n",
    "#finds the extension of each file. Then, for each extension found, it prints the number of files with \n",
    "#that extension and the minimum, average, and maximum size for files with that extension in the selected directory."
   ]
  },
  {
   "cell_type": "code",
   "execution_count": null,
   "metadata": {},
   "outputs": [],
   "source": [
    "SplitTypes=[]\n",
    "for file in os.listdir(os.curdir):\n",
    "    SplitTypes.append(file.split('.')[-1])\n",
    "\n",
    "collections.Counter(SplitTypes)"
   ]
  },
  {
   "cell_type": "code",
   "execution_count": null,
   "metadata": {},
   "outputs": [],
   "source": [
    "for file in os.listdir(os.curdir):\n",
    "    print(file, os.path.getsize(file))\n",
    "    "
   ]
  },
  {
   "cell_type": "code",
   "execution_count": null,
   "metadata": {},
   "outputs": [],
   "source": [
    "os.path.getsize('Agosto.ipynb')"
   ]
  },
  {
   "cell_type": "code",
   "execution_count": null,
   "metadata": {},
   "outputs": [],
   "source": [
    "filename, file_extension = os.path.splitext('/path/to/somefile.ext')\n",
    "filename\n",
    "file_extension\n"
   ]
  },
  {
   "cell_type": "code",
   "execution_count": null,
   "metadata": {},
   "outputs": [],
   "source": [
    "for file in current_dir_name:\n",
    "    print(file)"
   ]
  },
  {
   "cell_type": "code",
   "execution_count": null,
   "metadata": {},
   "outputs": [],
   "source": [
    "from __future__ import print_function\n",
    "import os\n",
    " \n",
    "path = '.'\n",
    " \n",
    "files = os.listdir(path)\n",
    "for name in files:\n",
    "    print(name)"
   ]
  },
  {
   "cell_type": "code",
   "execution_count": 120,
   "metadata": {},
   "outputs": [
    {
     "name": "stdout",
     "output_type": "stream",
     "text": [
      "['txt', 'ipynb', 'ipynb', 'Practical_Statistics', 'ipynb', 'ipynb', 'ipynb', 'ipynb', 'ipynb', 'ipynb', 'ipynb', 'DS_Store', 'ipynb', 'xlsx', 'xls', 'json', 'ipynb', 'ipynb', 'ipynb', 'ipynb', 'json', 'ipynb', 'csv', 'json', 'ipynb', 'ipynb', 'xlsx', 'ipynb', 'ipynb', 'ipynb', 'xlsx', 'ipynb', 'ipynb', 'ipynb', 'ipynb', 'workspace 2', 'py', 'ipynb', 'json', 'ipynb', 'ipynb', 'ipynb', 'xlsx', 'xlsx', 'xlsx', 'json', 'json', 'xls', 'json', 'json', 'xlsx', 'ipynb', 'templates', 'xlsx', 'ipynb_checkpoints', 'ipynb', 'txt', 'log', 'ipynb', 'ipynb', 'xlsx', 'ipynb', 'ipynb', 'ipynb', 'ipynb', 'exec -l ', 'xlsx', 'py', 'csv', 'ipynb', 'json', 'csv', 'ipynb']\n"
     ]
    }
   ],
   "source": [
    "SplitTypes=[]\n",
    "for file in os.listdir(os.curdir):\n",
    "    SplitTypes.append(file.split('.')[-1])\n",
    "print(SplitTypes)"
   ]
  },
  {
   "cell_type": "code",
   "execution_count": 121,
   "metadata": {},
   "outputs": [],
   "source": [
    "#FINAL SOLUTION FOR #1"
   ]
  },
  {
   "cell_type": "code",
   "execution_count": null,
   "metadata": {},
   "outputs": [],
   "source": [
    "from collections import defaultdict\n",
    "from os import stat\n",
    "from os import curdir\n",
    "from os import listdir\n",
    "from os.path import splitext\n",
    "\n",
    "d = defaultdict(list)\n",
    "for file in listdir(curdir):\n",
    "    _, extension = splitext(file)\n",
    "    d[extension].append(stat(file).st_size)\n",
    "\n",
    "for extension, file_sizes in d.items():\n",
    "    print('extension:', extension)\n",
    "    print('count:', len(file_sizes))\n",
    "    print('min file size:', min(file_sizes))\n",
    "    print('max file size:', max(file_sizes))\n",
    "    print('average file size:', sum(file_sizes) / len(file_sizes))"
   ]
  },
  {
   "cell_type": "markdown",
   "metadata": {},
   "source": [
    "# 2 of Final Project"
   ]
  },
  {
   "cell_type": "code",
   "execution_count": null,
   "metadata": {},
   "outputs": [],
   "source": [
    "def text_analyzer(filename):\n",
    "    with open(filename, 'r') as f:\n",
    "              passage = f.read()\n",
    "              words = passage.split()\n",
    "    max_len = len(max(words, key=len))\n",
    "    longest_words= [word for word in words if len(word) == max_len]\n",
    "    average = sum(len(word) for word in words) / len(words)\n",
    "    find_words = re.findall(r'\\w+', passage)\n",
    "    c = Counter(find_words)\n",
    "    top5=c.most_common(5)\n",
    "    freq_list=sorted(words, key=Counter(a).get, reverse=True)\n",
    "    return top5, longest_words, average, freq_list\n",
    "\n",
    "\n",
    "print(text_analyzer('file.txt'))"
   ]
  },
  {
   "cell_type": "code",
   "execution_count": null,
   "metadata": {},
   "outputs": [],
   "source": []
  }
 ],
 "metadata": {
  "kernelspec": {
   "display_name": "Python 3",
   "language": "python",
   "name": "python3"
  },
  "language_info": {
   "codemirror_mode": {
    "name": "ipython",
    "version": 3
   },
   "file_extension": ".py",
   "mimetype": "text/x-python",
   "name": "python",
   "nbconvert_exporter": "python",
   "pygments_lexer": "ipython3",
   "version": "3.7.0"
  }
 },
 "nbformat": 4,
 "nbformat_minor": 2
}
