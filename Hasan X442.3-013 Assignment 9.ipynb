{
 "cells": [
  {
   "cell_type": "markdown",
   "metadata": {},
   "source": [
    "1."
   ]
  },
  {
   "cell_type": "code",
   "execution_count": 86,
   "metadata": {},
   "outputs": [
    {
     "name": "stdout",
     "output_type": "stream",
     "text": [
      "empty.rtf 1\n",
      ".DS_Store 2\n",
      "dothis.txt.sb-b0967e38-wdlxue 3\n",
      "Assignment9.ipynb 4\n",
      "~$MERGED FILE 98-231.xlsx 5\n",
      "~$15_23tracker.xlsx 6\n",
      "~$Copy of MERGED FILE 98-231-3.xlsx 7\n",
      "dothis.txt 8\n",
      "~$MERGED FILE 98-23.xlsx 9\n",
      "RTC TEMPERATURE COMP YEARLY VOL.xlsx 10\n",
      "output.xlsx 11\n",
      "Copy of MERGED FILE 98-231-3.xlsx 12\n",
      "LongTermTracker.ipynb 13\n",
      "output1523.xlsx 14\n",
      "15_23tracker.xlsx 15\n",
      "MERGED FILE 98-23.xlsx 16\n",
      "MERGED FILE 98-231.xlsx 17\n",
      "LongTermTracker-checkpoint.ipynb 1\n"
     ]
    }
   ],
   "source": [
    "import os\n",
    "for root, dirs, files in os.walk('/Users/gibranhasan/Desktop/LongTermTracker/'):\n",
    "    counts= 0\n",
    "    for file in files:\n",
    "        file_path = os.path.join(root, file) \n",
    "        size = os.path.getsize(file_path)\n",
    "        if size ==0:\n",
    "            counts+=1\n",
    "            print(file, counts)\n",
    "        \n",
    "            \n"
   ]
  },
  {
   "cell_type": "markdown",
   "metadata": {},
   "source": [
    "2."
   ]
  },
  {
   "cell_type": "code",
   "execution_count": 92,
   "metadata": {},
   "outputs": [
    {
     "data": {
      "text/plain": [
       "[b'_images/pandas_simple.png',\n",
       " b'_images/pandas_chart.png',\n",
       " b'_images/pandas_conditional.png',\n",
       " b'_images/pandas_datetime.png',\n",
       " b'_images/pandas_column_formats.png',\n",
       " b'_images/pandas_header_format.png',\n",
       " b'_images/pandas_positioning.png']"
      ]
     },
     "execution_count": 92,
     "metadata": {},
     "output_type": "execute_result"
    }
   ],
   "source": [
    "import re\n",
    "import urllib.request\n",
    "web = urllib.request.urlopen('https://xlsxwriter.readthedocs.io/working_with_pandas.html')\n",
    "html = web.read()\n",
    "pic = re.compile (rb'<img [^>]*src=\"([^\"]+)').findall(html)\n",
    "pic"
   ]
  },
  {
   "cell_type": "code",
   "execution_count": null,
   "metadata": {
    "collapsed": true
   },
   "outputs": [],
   "source": []
  },
  {
   "cell_type": "code",
   "execution_count": null,
   "metadata": {
    "collapsed": true
   },
   "outputs": [],
   "source": []
  }
 ],
 "metadata": {
  "kernelspec": {
   "display_name": "Python 3",
   "language": "python",
   "name": "python3"
  },
  "language_info": {
   "codemirror_mode": {
    "name": "ipython",
    "version": 3
   },
   "file_extension": ".py",
   "mimetype": "text/x-python",
   "name": "python",
   "nbconvert_exporter": "python",
   "pygments_lexer": "ipython3",
   "version": "3.6.2"
  }
 },
 "nbformat": 4,
 "nbformat_minor": 2
}
